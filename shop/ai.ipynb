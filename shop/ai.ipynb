{
 "cells": [
  {
   "cell_type": "code",
   "execution_count": 18,
   "metadata": {},
   "outputs": [
    {
     "data": {
      "text/plain": [
       "True"
      ]
     },
     "execution_count": 18,
     "metadata": {},
     "output_type": "execute_result"
    }
   ],
   "source": [
    "import os\n",
    "import time\n",
    "import faiss\n",
    "import numpy as np\n",
    "from langchain.text_splitter import CharacterTextSplitter\n",
    "from langchain_huggingface import HuggingFaceEmbeddings\n",
    "from langchain.chains import RetrievalQA\n",
    "from langchain_community.vectorstores import FAISS\n",
    "from groq import Groq\n",
    "from decouple import config\n",
    "from dotenv import load_dotenv\n",
    "load_dotenv()\n"
   ]
  },
  {
   "cell_type": "code",
   "execution_count": 89,
   "metadata": {},
   "outputs": [],
   "source": [
    "import os\n",
    "import time\n",
    "import faiss\n",
    "import numpy as np\n",
    "from langchain.text_splitter import CharacterTextSplitter\n",
    "from langchain_huggingface import HuggingFaceEmbeddings\n",
    "from langchain.chains import RetrievalQA\n",
    "from langchain_community.vectorstores import FAISS\n",
    "from groq import Groq\n",
    "from decouple import config\n",
    "from dotenv import load_dotenv\n",
    "load_dotenv()\n",
    "# Set the API key (ensure this is secure and not hard-coded in production code)\n",
    "groq_api_key = \"sk_XtQo2sY2ylP66mWhUiXvWGdyb3FYApEiYbq2tmqnRbzcsm7PNTYl\"\n",
    "\n",
    "\n",
    "def load_data_from_db():\n",
    "    text_data = [\n",
    "        \"Name: Product A\\nDescription: A great product\\nPrice: $10\\nStock: 100\\nCategory: Electronics\",\n",
    "        \"Name: Product B\\nDescription: Another great product\\nPrice: $20\\nStock: 50\\nCategory: Books\"\n",
    "    ]\n",
    "    return text_data\n",
    "\n",
    "text_data = load_data_from_db()\n",
    "\n",
    "\n",
    "def get_text_chunks(text_data):\n",
    "    text_splitter = CharacterTextSplitter(chunk_size=1000, chunk_overlap=100)\n",
    "    chunks = []\n",
    "    for text in text_data:\n",
    "        chunks.extend(text_splitter.split_text(text))\n",
    "    return chunks\n",
    "\n",
    "text_chunks = get_text_chunks(text_data)\n",
    "\n",
    "embeddings = HuggingFaceEmbeddings()\n",
    "\n",
    "\n",
    "def get_vectorstore(text_chunks):\n",
    "    \n",
    "    # embeddings = HuggingFaceInstructEmbeddings(model_name=\"hkunlp/instructor-xl\")\n",
    "    vectorstore = FAISS.from_texts(texts=text_chunks, embedding=embeddings)\n",
    "    return vectorstore\n",
    "\n",
    "vectorstore = get_vectorstore(text_chunks)\n",
    "\n",
    "retriever = vectorstore.as_retriever()\n",
    "llm = ChatGroq(\n",
    "    model=\"llama-3.1-70b-versatile\",\n",
    "    temperature=0\n",
    ")\n",
    "qa_chain = RetrievalQA.from_chain_type(\n",
    "    llm=llm,\n",
    "    chain_type=\"stuff\",\n",
    "    retriever=retriever,\n",
    "    #return_source_documents=True\n",
    ")\n",
    "def test_qa_chain(qa_chain, query):\n",
    "    result = qa_chain.run(query)\n",
    "    return result\n",
    "\n",
    "# Example query\n",
    "query = \"What do we have?\"\n",
    "response = test_qa_chain(qa_chain, query)\n",
    "print(response)\n"
   ]
  },
  {
   "cell_type": "code",
   "execution_count": 50,
   "metadata": {},
   "outputs": [],
   "source": [
    "# Set the API key (ensure this is secure and not hard-coded in production code)\n",
    "groq_api_key = \"sk_XtQo2sY2ylP66mWhUiXvWGdyb3FYApEiYbq2tmqnRbzcsm7PNTYl\""
   ]
  },
  {
   "cell_type": "code",
   "execution_count": 19,
   "metadata": {},
   "outputs": [],
   "source": [
    "def load_data_from_db():\n",
    "    text_data = [\n",
    "        \"Name: Product A\\nDescription: A great product\\nPrice: $10\\nStock: 100\\nCategory: Electronics\",\n",
    "        \"Name: Product B\\nDescription: Another great product\\nPrice: $20\\nStock: 50\\nCategory: Books\"\n",
    "    ]\n",
    "    return text_data\n",
    "\n",
    "text_data = load_data_from_db()\n"
   ]
  },
  {
   "cell_type": "code",
   "execution_count": 20,
   "metadata": {},
   "outputs": [
    {
     "data": {
      "text/plain": [
       "['Name: Product A\\nDescription: A great product\\nPrice: $10\\nStock: 100\\nCategory: Electronics',\n",
       " 'Name: Product B\\nDescription: Another great product\\nPrice: $20\\nStock: 50\\nCategory: Books']"
      ]
     },
     "execution_count": 20,
     "metadata": {},
     "output_type": "execute_result"
    }
   ],
   "source": [
    "text_data"
   ]
  },
  {
   "cell_type": "code",
   "execution_count": 74,
   "metadata": {},
   "outputs": [],
   "source": [
    "def get_text_chunks(text_data):\n",
    "    text_splitter = CharacterTextSplitter(chunk_size=1000, chunk_overlap=100)\n",
    "    chunks = []\n",
    "    for text in text_data:\n",
    "        chunks.extend(text_splitter.split_text(text))\n",
    "    return chunks\n",
    "\n"
   ]
  },
  {
   "cell_type": "code",
   "execution_count": 76,
   "metadata": {},
   "outputs": [],
   "source": [
    "\n",
    "text_chunks = get_text_chunks(text_data)"
   ]
  },
  {
   "cell_type": "code",
   "execution_count": 77,
   "metadata": {},
   "outputs": [
    {
     "data": {
      "text/plain": [
       "['Name: Product A\\nDescription: A great product\\nPrice: $10\\nStock: 100\\nCategory: Electronics',\n",
       " 'Name: Product B\\nDescription: Another great product\\nPrice: $20\\nStock: 50\\nCategory: Books']"
      ]
     },
     "execution_count": 77,
     "metadata": {},
     "output_type": "execute_result"
    }
   ],
   "source": [
    "text_chunks"
   ]
  },
  {
   "cell_type": "code",
   "execution_count": 78,
   "metadata": {},
   "outputs": [
    {
     "name": "stderr",
     "output_type": "stream",
     "text": [
      "c:\\Users\\kym\\Desktop\\new_projects\\ecomerce_project\\env\\Lib\\site-packages\\transformers\\tokenization_utils_base.py:1601: FutureWarning: `clean_up_tokenization_spaces` was not set. It will be set to `True` by default. This behavior will be depracted in transformers v4.45, and will be then set to `False` by default. For more details check this issue: https://github.com/huggingface/transformers/issues/31884\n",
      "  warnings.warn(\n"
     ]
    }
   ],
   "source": [
    "embeddings = HuggingFaceEmbeddings()\n",
    "\n",
    "\n",
    "def get_vectorstore(text_chunks):\n",
    "    \n",
    "    # embeddings = HuggingFaceInstructEmbeddings(model_name=\"hkunlp/instructor-xl\")\n",
    "    vectorstore = FAISS.from_texts(texts=text_chunks, embedding=embeddings)\n",
    "    return vectorstore\n"
   ]
  },
  {
   "cell_type": "code",
   "execution_count": 79,
   "metadata": {},
   "outputs": [],
   "source": [
    "vectorstore = get_vectorstore(text_chunks)"
   ]
  },
  {
   "cell_type": "code",
   "execution_count": 82,
   "metadata": {},
   "outputs": [],
   "source": [
    "retriever = vectorstore.as_retriever()"
   ]
  },
  {
   "cell_type": "code",
   "execution_count": 83,
   "metadata": {},
   "outputs": [],
   "source": [
    "\n",
    "llm = ChatGroq(\n",
    "    model=\"llama-3.1-70b-versatile\",\n",
    "    temperature=0\n",
    ")\n",
    "\n"
   ]
  },
  {
   "cell_type": "code",
   "execution_count": 86,
   "metadata": {},
   "outputs": [],
   "source": [
    "qa_chain = RetrievalQA.from_chain_type(\n",
    "    llm=llm,\n",
    "    chain_type=\"stuff\",\n",
    "    retriever=retriever,\n",
    "    #return_source_documents=True\n",
    ")"
   ]
  },
  {
   "cell_type": "code",
   "execution_count": 88,
   "metadata": {},
   "outputs": [
    {
     "name": "stdout",
     "output_type": "stream",
     "text": [
      "We have two products:\n",
      "\n",
      "1. Product A: an electronics product that costs $10 and we have 100 in stock.\n",
      "2. Product B: a book that costs $20 and we have 50 in stock.\n"
     ]
    }
   ],
   "source": [
    "def test_qa_chain(qa_chain, query):\n",
    "    result = qa_chain.run(query)\n",
    "    return result\n",
    "\n",
    "# Example query\n",
    "query = \"What do we have?\"\n",
    "response = test_qa_chain(qa_chain, query)\n",
    "print(response)\n"
   ]
  },
  {
   "cell_type": "code",
   "execution_count": 90,
   "metadata": {},
   "outputs": [],
   "source": [
    "import faiss\n",
    "import numpy as np\n",
    "from langchain.text_splitter import CharacterTextSplitter\n",
    "from langchain_huggingface import HuggingFaceEmbeddings\n",
    "from langchain.chains import RetrievalQA\n",
    "from langchain_community.vectorstores import FAISS\n",
    "from groq import Groq\n",
    "from decouple import config\n",
    "from dotenv import load_dotenv\n",
    "\n",
    "load_dotenv()\n",
    "\n",
    "# Set the API key (ensure this is secure and not hard-coded in production code)\n",
    "groq_api_key = config(\"GROQ_API_KEY\")\n",
    "\n",
    "def load_data_from_db():\n",
    "    from .models import Product\n",
    "    text_data = []\n",
    "    for product in Product.objects.all():\n",
    "        text_data.append(\n",
    "            f\"Name: {product.name}\\nDescription: {product.description}\\nPrice: ${product.price}\\nStock: {product.stock}\\nCategory: {product.category.name}\"\n",
    "        )\n",
    "    return text_data\n",
    "\n",
    "def get_text_chunks(text_data):\n",
    "    text_splitter = CharacterTextSplitter(chunk_size=1000, chunk_overlap=100)\n",
    "    chunks = []\n",
    "    for text in text_data:\n",
    "        chunks.extend(text_splitter.split_text(text))\n",
    "    return chunks\n",
    "\n",
    "def get_vectorstore(text_chunks):\n",
    "    embeddings = HuggingFaceEmbeddings()\n",
    "    vectorstore = FAISS.from_texts(texts=text_chunks, embedding=embeddings)\n",
    "    return vectorstore\n",
    "\n",
    "def get_ai_response(query):\n",
    "    text_data = load_data_from_db()\n",
    "    text_chunks = get_text_chunks(text_data)\n",
    "    vectorstore = get_vectorstore(text_chunks)\n",
    "    retriever = vectorstore.as_retriever()\n",
    "\n",
    "    llm = Groq(model=\"llama-3.1-70b-versatile\", temperature=0)\n",
    "    qa_chain = RetrievalQA.from_chain_type(\n",
    "        llm=llm,\n",
    "        chain_type=\"stuff\",\n",
    "        retriever=retriever,\n",
    "        return_source_documents=True\n",
    "    )\n",
    "\n",
    "    result = qa_chain.run(query)\n",
    "    response = result['result']\n",
    "    source_documents = result.get('source_documents', [])\n",
    "\n",
    "    return response, source_documents\n",
    "\n"
   ]
  },
  {
   "cell_type": "code",
   "execution_count": null,
   "metadata": {},
   "outputs": [],
   "source": []
  }
 ],
 "metadata": {
  "kernelspec": {
   "display_name": "env",
   "language": "python",
   "name": "python3"
  },
  "language_info": {
   "codemirror_mode": {
    "name": "ipython",
    "version": 3
   },
   "file_extension": ".py",
   "mimetype": "text/x-python",
   "name": "python",
   "nbconvert_exporter": "python",
   "pygments_lexer": "ipython3",
   "version": "3.12.4"
  }
 },
 "nbformat": 4,
 "nbformat_minor": 2
}
